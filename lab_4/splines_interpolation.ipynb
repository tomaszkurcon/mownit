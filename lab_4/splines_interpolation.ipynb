{
 "cells": [
  {
   "cell_type": "code",
   "execution_count": 75,
   "outputs": [],
   "source": [
    "import matplotlib.pyplot as plt\n",
    "import numpy as np\n",
    "import pandas as pd\n",
    "import math\n",
    "from time import time\n",
    "from sympy import Symbol, diff, lambdify, sin, exp"
   ],
   "metadata": {
    "collapsed": false
   }
  },
  {
   "cell_type": "code",
   "execution_count": 76,
   "outputs": [],
   "source": [
    "#przedział funkcji\n",
    "a = -4*math.pi\n",
    "b = 3*math.pi\n",
    "#liczba punktów na wykresach i przy obliczaniu błędów\n",
    "points = 1000"
   ],
   "metadata": {
    "collapsed": false
   }
  },
  {
   "cell_type": "code",
   "execution_count": 77,
   "outputs": [],
   "source": [
    "def data_plot(xs, ys, label=''):\n",
    "    plt.xlabel('x')\n",
    "    plt.ylabel('y')\n",
    "    plt.plot(xs, ys)\n",
    "    if label: plt.legend(loc=\"best\")\n",
    "\n",
    "\n",
    "def func_plot(fn, a, b, n, label='', color='', figsize=(6, 4), subplot=None, title=''):\n",
    "    if subplot is None:\n",
    "        fig, ax = plt.subplots(figsize=figsize)\n",
    "    else:\n",
    "        ax = subplot\n",
    "    xs = np.linspace(a, b, num=n)\n",
    "    ys = [fn(xi) for xi in xs]\n",
    "    if color:\n",
    "        ax.plot(xs, ys, label=label, color=color)\n",
    "    else:\n",
    "        ax.plot(xs, ys, label=label)\n",
    "    ax.set_xlabel('x')\n",
    "    ax.set_ylabel('y')\n",
    "    if label:\n",
    "        ax.legend(loc=\"best\")\n",
    "    if title:\n",
    "        ax.set_title(title)\n"
   ],
   "metadata": {
    "collapsed": false
   }
  },
  {
   "cell_type": "code",
   "execution_count": 115,
   "outputs": [],
   "source": [
    "def create_compare_errors_table(data):\n",
    "    df = pd.DataFrame(data, index=[\"Błąd bezwzględny\", \"Błąd średniokwadratowy\"])\n",
    "    return df\n"
   ],
   "metadata": {
    "collapsed": false
   }
  },
  {
   "cell_type": "code",
   "execution_count": 79,
   "outputs": [],
   "source": [
    "def max_absolute_error(f, W, xs):\n",
    "    return max([abs(f(x) - W(x)) for x in xs])\n"
   ],
   "metadata": {
    "collapsed": false
   }
  },
  {
   "cell_type": "code",
   "execution_count": 80,
   "outputs": [],
   "source": [
    "def mse(f, W, xs):\n",
    "    return sum([(f(x) - W(x)) ** 2 for x in xs]) / len(xs)"
   ],
   "metadata": {
    "collapsed": false
   }
  },
  {
   "cell_type": "code",
   "execution_count": 81,
   "outputs": [],
   "source": [
    "def display_interpolation(f, a,b,n, interpolations, labels,colors=[],natural=True, title=\"\"):\n",
    "    xs = np.linspace(a,b, points)\n",
    "    fig, ax = plt.subplots(figsize=(6, 4))\n",
    "    polynomials = []\n",
    "    for interpolation in interpolations:\n",
    "        polynomials.append(interpolation(f,a,b,n, natural=natural, ax=ax))\n",
    "    poly_n = len(polynomials)\n",
    "    poly_errors = {}\n",
    "    func_plot(f, a, b, 1000, label=\"f(x)\", subplot=ax)\n",
    "    while len(colors) < poly_n:\n",
    "        colors.append('')\n",
    "    for i in range(poly_n):\n",
    "        func_plot(polynomials[i], a, b, 1000, label=labels[i], subplot=ax, color=colors[i], title=title)\n",
    "        poly_errors[labels[i]] = [max_absolute_error(f, polynomials[i] ,xs), mse(f,polynomials[i] ,xs)]\n",
    "\n",
    "    plt.show()\n",
    "    display(create_compare_errors_table(poly_errors))\n"
   ],
   "metadata": {
    "collapsed": false
   }
  },
  {
   "cell_type": "code",
   "execution_count": 111,
   "outputs": [],
   "source": [
    "class QuadraticSpline:\n",
    "    def __init__(self, xs, ys):\n",
    "        self.n = len(xs)\n",
    "        self.xs = xs\n",
    "        self.ys = ys\n",
    "        self.functions = []\n",
    "    def s(self, i,a,b,c):\n",
    "        return lambda x: a[i]*(x-self.xs[i]) ** 2 + b[i]*(x-self.xs[i]) + c[i]\n",
    "    def natural_spline(self):\n",
    "        a = []\n",
    "        b = [0]\n",
    "        c = self.ys\n",
    "        self.find_factors(a,b)\n",
    "        self.find_functions(a,b,c)\n",
    "        return self.interpolation_val\n",
    "    def clamped_boundary(self):\n",
    "        a = []\n",
    "        b_0 = (self.ys[1]-self.ys[0])/(self.xs[1]-self.xs[0])\n",
    "        b = [b_0]\n",
    "        c = self.ys\n",
    "        self.find_factors(a,b)\n",
    "        self.find_functions(a,b,c)\n",
    "        return self.interpolation_val\n",
    "    def find_factors(self,a,b):\n",
    "        for i in range(1, self.n):\n",
    "            b.append(2*(self.ys[i]-self.ys[i-1])/(self.xs[i]-self.xs[i-1])-b[-1])\n",
    "        for i in range(self.n - 1):\n",
    "            a.append((b[i + 1] - b[i]) / (2 * (self.xs[i + 1] - self.xs[i])))\n",
    "\n",
    "    def find_functions(self, a,b,c):\n",
    "        for i in range(self.n-1):\n",
    "            self.functions.append(self.s(i,a,b,c))\n",
    "\n",
    "    def interpolation_val(self,x):\n",
    "        index = 0\n",
    "        if x < self.xs[0] or x>self.xs[-1]:\n",
    "            return 0\n",
    "        for i in range(self.n-1):\n",
    "            if self.xs[i]<=x and self.xs[i+1]>=x:\n",
    "                index = i\n",
    "                break\n",
    "        return self.functions[index](x)\n"
   ],
   "metadata": {
    "collapsed": false
   }
  },
  {
   "cell_type": "code",
   "execution_count": 83,
   "outputs": [],
   "source": [
    "\n",
    "def quadtratic_spline_func(f, a, b, n, natural=True,ax=None):\n",
    "    x = np.linspace(a, b, n)\n",
    "    y = [f(xi) for xi in x]\n",
    "    if ax is not None:\n",
    "        ax.plot(x, y, 'o', c=\"r\")\n",
    "    if natural:\n",
    "        return QuadraticSpline(x, y).natural_spline()\n",
    "    return QuadraticSpline(x, y).clamped_boundary()"
   ],
   "metadata": {
    "collapsed": false
   }
  },
  {
   "cell_type": "code",
   "execution_count": 84,
   "outputs": [],
   "source": [
    "class CubicSpline:\n",
    "    def __init__(self, xs, ys):\n",
    "        self.n = len(xs)\n",
    "        self.xs = xs\n",
    "        self.ys = ys\n",
    "        self.functions = []\n",
    "        self.h = [xs[i + 1] - xs[i] for i in range(self.n - 1)]\n",
    "\n",
    "    def s(self, i, b, c, d):\n",
    "        return lambda x: self.ys[i] + b[i] * (x - self.xs[i]) + c[i] * (x - self.xs[i]) ** 2 + d[i] * (\n",
    "                    x - self.xs[i]) ** 3\n",
    "\n",
    "    def calculate_deltas_of_degree(self, degree):\n",
    "        deltas = [list(self.ys)]\n",
    "        for j in range(1, degree + 1):\n",
    "            deltas.append([(deltas[j - 1][i + 1] - deltas[j - 1][i]) / (self.xs[i + j] - self.xs[i]) for i in range(self\n",
    "                                                                                                                .n -\n",
    "                                                                                                            j)])\n",
    "        return deltas[degree]\n",
    "\n",
    "    def cubic_spline_interpolation(self, natural=True):\n",
    "        deltas_1 = self.calculate_deltas_of_degree(1)\n",
    "        Y_vec = np.array([deltas_1[i + 1] - deltas_1[i] for i in range(len(deltas_1) - 1)])\n",
    "        A_matrix = np.array([([0 for _ in range(j)] + [self.h[j], 2 * (self.h[j] + self.h[j + 1]), self.h[j + 1]] + [\n",
    "            0 for _ in range(len(self.h) - 2 - j)]) for j in range(len(self.h) - 1)])\n",
    "        if natural:\n",
    "            Y_vec, A_matrix = self.natural_spline(Y_vec, A_matrix)\n",
    "        else:\n",
    "            Y_vec, A_matrix = self.cube_spline(Y_vec, A_matrix)\n",
    "        Y_vec = np.array(Y_vec, dtype=np.float64)\n",
    "        A_matrix = np.array(A_matrix, dtype=np.float64)\n",
    "        sigma = np.linalg.solve(A_matrix, Y_vec)\n",
    "\n",
    "        b, c, d = self.find_factors(sigma)\n",
    "\n",
    "        self.find_functions(b, c, d)\n",
    "        return self.interpolation_val\n",
    "\n",
    "    def natural_spline(self, Y_vec, A_matrix):\n",
    "        Y_vec = np.concatenate(([0], Y_vec, [0]))\n",
    "        A_matrix = np.concatenate(([[1] + [0 for _ in range(self.n-1)]],\n",
    "                                   A_matrix, [[0 for _ in range(self.n-1)] + [1]]), axis=0)\n",
    "\n",
    "        return Y_vec, A_matrix\n",
    "\n",
    "    def cube_spline(self, Y_vec, A_matrix):\n",
    "        A_matrix = np.concatenate(([[-self.h[0], self.h[0]] + [0 for _ in range(self.n - 2)]],\n",
    "                                   A_matrix, [[0 for _ in range(self.n - 2)] + [self.h[self.n - 2], -self.h[self\n",
    "                                   .n-2]]]),\n",
    "                                  axis=0)\n",
    "        deltas = self.calculate_deltas_of_degree(3)\n",
    "        y_0 = self.h[0] ** 2 * deltas[0]\n",
    "        y_n_1= -self.h[self.n - 2] ** 2 * deltas[-1]\n",
    "        Y_vec = np.concatenate(([y_0], Y_vec, [y_n_1]))\n",
    "\n",
    "        return Y_vec, A_matrix\n",
    "\n",
    "\n",
    "\n",
    "    def find_factors(self, sigma):\n",
    "        b = [(self.ys[i + 1] - self.ys[i]) / self.h[i] - self.h[i] * (sigma[i + 1] + 2 * sigma[i]) for i in range(self\n",
    "                                                                                                                  .n - 1)]\n",
    "        c = [3 * sigma[i] for i in range(self.n - 1)]\n",
    "        d = [(sigma[i + 1] - sigma[i]) / self.h[i] for i in range(self.n - 1)]\n",
    "        return b, c, d\n",
    "\n",
    "    def find_functions(self, b, c, d):\n",
    "        for i in range(self.n - 1):\n",
    "            self.functions.append(self.s(i, b, c, d))\n",
    "\n",
    "    def interpolation_val(self, x):\n",
    "        index = 0\n",
    "        if x < self.xs[0] or x > self.xs[-1]:\n",
    "            return 0\n",
    "        for i in range(self.n - 1):\n",
    "            if self.xs[i] <= x and self.xs[i + 1] >= x:\n",
    "                index = i\n",
    "                break\n",
    "        return self.functions[index](x)\n"
   ],
   "metadata": {
    "collapsed": false
   }
  },
  {
   "cell_type": "code",
   "execution_count": 85,
   "outputs": [],
   "source": [
    "def cubic_spline_func(f, a, b, n, natural=True, ax=None):\n",
    "    x = np.linspace(a, b, n)\n",
    "    y = [f(xi) for xi in x]\n",
    "    if ax is not None:\n",
    "        ax.plot(x, y, 'o', c=\"r\")\n",
    "    return CubicSpline(x, y).cubic_spline_interpolation(natural=natural)"
   ],
   "metadata": {
    "collapsed": false
   }
  },
  {
   "cell_type": "code",
   "execution_count": 86,
   "outputs": [],
   "source": [
    "f = lambda x, k=4, m=1: exp(-k * sin(m * x)) + k * sin(m * x) - 1"
   ],
   "metadata": {
    "collapsed": false
   }
  }
 ],
 "metadata": {
  "kernelspec": {
   "display_name": "Python 3",
   "language": "python",
   "name": "python3"
  },
  "language_info": {
   "codemirror_mode": {
    "name": "ipython",
    "version": 2
   },
   "file_extension": ".py",
   "mimetype": "text/x-python",
   "name": "python",
   "nbconvert_exporter": "python",
   "pygments_lexer": "ipython2",
   "version": "2.7.6"
  }
 },
 "nbformat": 4,
 "nbformat_minor": 0
}
